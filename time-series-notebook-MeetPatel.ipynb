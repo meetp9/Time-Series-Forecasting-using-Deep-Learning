{
 "cells": [
  {
   "cell_type": "code",
   "execution_count": null,
   "id": "35a57fca",
   "metadata": {},
   "outputs": [],
   "source": []
  },
  {
   "cell_type": "code",
   "execution_count": null,
   "id": "db115e9e",
   "metadata": {},
   "outputs": [],
   "source": []
  },
  {
   "cell_type": "markdown",
   "id": "09c821a0",
   "metadata": {},
   "source": [
    "<h4>\n",
    "    1.Setup"
   ]
  },
  {
   "cell_type": "code",
   "execution_count": 1,
   "id": "cc23d0d2",
   "metadata": {},
   "outputs": [
    {
     "name": "stdout",
     "output_type": "stream",
     "text": [
      "2.5.0\n"
     ]
    }
   ],
   "source": [
    "#From TF Tutorial.\n",
    "import os\n",
    "import datetime\n",
    "\n",
    "import IPython\n",
    "import IPython.display\n",
    "import matplotlib as mpl\n",
    "import matplotlib.pyplot as plt\n",
    "import numpy as np\n",
    "import pandas as pd\n",
    "import seaborn as sns\n",
    "import tensorflow as tf\n",
    "from sklearn.preprocessing import StandardScaler\n",
    "\n",
    "mpl.rcParams['figure.figsize'] = (8, 6)\n",
    "mpl.rcParams['axes.grid'] = False\n",
    "print(tf.__version__)  # check the TF version!"
   ]
  },
  {
   "cell_type": "code",
   "execution_count": 2,
   "id": "6f7f35be",
   "metadata": {},
   "outputs": [
    {
     "data": {
      "text/html": [
       "<div>\n",
       "<style scoped>\n",
       "    .dataframe tbody tr th:only-of-type {\n",
       "        vertical-align: middle;\n",
       "    }\n",
       "\n",
       "    .dataframe tbody tr th {\n",
       "        vertical-align: top;\n",
       "    }\n",
       "\n",
       "    .dataframe thead th {\n",
       "        text-align: right;\n",
       "    }\n",
       "</style>\n",
       "<table border=\"1\" class=\"dataframe\">\n",
       "  <thead>\n",
       "    <tr style=\"text-align: right;\">\n",
       "      <th></th>\n",
       "      <th>holiday</th>\n",
       "      <th>temp</th>\n",
       "      <th>rain_1h</th>\n",
       "      <th>snow_1h</th>\n",
       "      <th>clouds_all</th>\n",
       "      <th>weather_main</th>\n",
       "      <th>weather_description</th>\n",
       "      <th>date_time</th>\n",
       "      <th>traffic_volume</th>\n",
       "    </tr>\n",
       "  </thead>\n",
       "  <tbody>\n",
       "    <tr>\n",
       "      <th>0</th>\n",
       "      <td>None</td>\n",
       "      <td>288.28</td>\n",
       "      <td>0.0</td>\n",
       "      <td>0.0</td>\n",
       "      <td>40</td>\n",
       "      <td>Clouds</td>\n",
       "      <td>scattered clouds</td>\n",
       "      <td>2012-10-02 09:00:00</td>\n",
       "      <td>5545</td>\n",
       "    </tr>\n",
       "    <tr>\n",
       "      <th>1</th>\n",
       "      <td>None</td>\n",
       "      <td>289.36</td>\n",
       "      <td>0.0</td>\n",
       "      <td>0.0</td>\n",
       "      <td>75</td>\n",
       "      <td>Clouds</td>\n",
       "      <td>broken clouds</td>\n",
       "      <td>2012-10-02 10:00:00</td>\n",
       "      <td>4516</td>\n",
       "    </tr>\n",
       "    <tr>\n",
       "      <th>2</th>\n",
       "      <td>None</td>\n",
       "      <td>289.58</td>\n",
       "      <td>0.0</td>\n",
       "      <td>0.0</td>\n",
       "      <td>90</td>\n",
       "      <td>Clouds</td>\n",
       "      <td>overcast clouds</td>\n",
       "      <td>2012-10-02 11:00:00</td>\n",
       "      <td>4767</td>\n",
       "    </tr>\n",
       "    <tr>\n",
       "      <th>3</th>\n",
       "      <td>None</td>\n",
       "      <td>290.13</td>\n",
       "      <td>0.0</td>\n",
       "      <td>0.0</td>\n",
       "      <td>90</td>\n",
       "      <td>Clouds</td>\n",
       "      <td>overcast clouds</td>\n",
       "      <td>2012-10-02 12:00:00</td>\n",
       "      <td>5026</td>\n",
       "    </tr>\n",
       "    <tr>\n",
       "      <th>4</th>\n",
       "      <td>None</td>\n",
       "      <td>291.14</td>\n",
       "      <td>0.0</td>\n",
       "      <td>0.0</td>\n",
       "      <td>75</td>\n",
       "      <td>Clouds</td>\n",
       "      <td>broken clouds</td>\n",
       "      <td>2012-10-02 13:00:00</td>\n",
       "      <td>4918</td>\n",
       "    </tr>\n",
       "    <tr>\n",
       "      <th>...</th>\n",
       "      <td>...</td>\n",
       "      <td>...</td>\n",
       "      <td>...</td>\n",
       "      <td>...</td>\n",
       "      <td>...</td>\n",
       "      <td>...</td>\n",
       "      <td>...</td>\n",
       "      <td>...</td>\n",
       "      <td>...</td>\n",
       "    </tr>\n",
       "    <tr>\n",
       "      <th>40570</th>\n",
       "      <td>None</td>\n",
       "      <td>283.45</td>\n",
       "      <td>0.0</td>\n",
       "      <td>0.0</td>\n",
       "      <td>75</td>\n",
       "      <td>Clouds</td>\n",
       "      <td>broken clouds</td>\n",
       "      <td>2018-09-30 19:00:00</td>\n",
       "      <td>3543</td>\n",
       "    </tr>\n",
       "    <tr>\n",
       "      <th>40571</th>\n",
       "      <td>None</td>\n",
       "      <td>282.76</td>\n",
       "      <td>0.0</td>\n",
       "      <td>0.0</td>\n",
       "      <td>90</td>\n",
       "      <td>Clouds</td>\n",
       "      <td>overcast clouds</td>\n",
       "      <td>2018-09-30 20:00:00</td>\n",
       "      <td>2781</td>\n",
       "    </tr>\n",
       "    <tr>\n",
       "      <th>40572</th>\n",
       "      <td>None</td>\n",
       "      <td>282.73</td>\n",
       "      <td>0.0</td>\n",
       "      <td>0.0</td>\n",
       "      <td>90</td>\n",
       "      <td>Thunderstorm</td>\n",
       "      <td>proximity thunderstorm</td>\n",
       "      <td>2018-09-30 21:00:00</td>\n",
       "      <td>2159</td>\n",
       "    </tr>\n",
       "    <tr>\n",
       "      <th>40573</th>\n",
       "      <td>None</td>\n",
       "      <td>282.09</td>\n",
       "      <td>0.0</td>\n",
       "      <td>0.0</td>\n",
       "      <td>90</td>\n",
       "      <td>Clouds</td>\n",
       "      <td>overcast clouds</td>\n",
       "      <td>2018-09-30 22:00:00</td>\n",
       "      <td>1450</td>\n",
       "    </tr>\n",
       "    <tr>\n",
       "      <th>40574</th>\n",
       "      <td>None</td>\n",
       "      <td>282.12</td>\n",
       "      <td>0.0</td>\n",
       "      <td>0.0</td>\n",
       "      <td>90</td>\n",
       "      <td>Clouds</td>\n",
       "      <td>overcast clouds</td>\n",
       "      <td>2018-09-30 23:00:00</td>\n",
       "      <td>954</td>\n",
       "    </tr>\n",
       "  </tbody>\n",
       "</table>\n",
       "<p>40575 rows × 9 columns</p>\n",
       "</div>"
      ],
      "text/plain": [
       "      holiday    temp  rain_1h  snow_1h  clouds_all  weather_main  \\\n",
       "0        None  288.28      0.0      0.0          40        Clouds   \n",
       "1        None  289.36      0.0      0.0          75        Clouds   \n",
       "2        None  289.58      0.0      0.0          90        Clouds   \n",
       "3        None  290.13      0.0      0.0          90        Clouds   \n",
       "4        None  291.14      0.0      0.0          75        Clouds   \n",
       "...       ...     ...      ...      ...         ...           ...   \n",
       "40570    None  283.45      0.0      0.0          75        Clouds   \n",
       "40571    None  282.76      0.0      0.0          90        Clouds   \n",
       "40572    None  282.73      0.0      0.0          90  Thunderstorm   \n",
       "40573    None  282.09      0.0      0.0          90        Clouds   \n",
       "40574    None  282.12      0.0      0.0          90        Clouds   \n",
       "\n",
       "          weather_description            date_time  traffic_volume  \n",
       "0            scattered clouds  2012-10-02 09:00:00            5545  \n",
       "1               broken clouds  2012-10-02 10:00:00            4516  \n",
       "2             overcast clouds  2012-10-02 11:00:00            4767  \n",
       "3             overcast clouds  2012-10-02 12:00:00            5026  \n",
       "4               broken clouds  2012-10-02 13:00:00            4918  \n",
       "...                       ...                  ...             ...  \n",
       "40570           broken clouds  2018-09-30 19:00:00            3543  \n",
       "40571         overcast clouds  2018-09-30 20:00:00            2781  \n",
       "40572  proximity thunderstorm  2018-09-30 21:00:00            2159  \n",
       "40573         overcast clouds  2018-09-30 22:00:00            1450  \n",
       "40574         overcast clouds  2018-09-30 23:00:00             954  \n",
       "\n",
       "[40575 rows x 9 columns]"
      ]
     },
     "execution_count": 2,
     "metadata": {},
     "output_type": "execute_result"
    }
   ],
   "source": [
    "#From TF Tutorial.\n",
    "df = pd.read_csv('./Metro_Interstate_reduced.csv')\n",
    "df"
   ]
  },
  {
   "cell_type": "code",
   "execution_count": 3,
   "id": "3d7ab16a",
   "metadata": {},
   "outputs": [
    {
     "name": "stdout",
     "output_type": "stream",
     "text": [
      "<class 'pandas.core.frame.DataFrame'>\n",
      "RangeIndex: 40575 entries, 0 to 40574\n",
      "Data columns (total 9 columns):\n",
      " #   Column               Non-Null Count  Dtype  \n",
      "---  ------               --------------  -----  \n",
      " 0   holiday              40575 non-null  object \n",
      " 1   temp                 40575 non-null  float64\n",
      " 2   rain_1h              40575 non-null  float64\n",
      " 3   snow_1h              40575 non-null  float64\n",
      " 4   clouds_all           40575 non-null  int64  \n",
      " 5   weather_main         40575 non-null  object \n",
      " 6   weather_description  40575 non-null  object \n",
      " 7   date_time            40575 non-null  object \n",
      " 8   traffic_volume       40575 non-null  int64  \n",
      "dtypes: float64(3), int64(2), object(4)\n",
      "memory usage: 2.8+ MB\n"
     ]
    }
   ],
   "source": [
    "#MP\n",
    "df.info()"
   ]
  },
  {
   "cell_type": "code",
   "execution_count": 4,
   "id": "517c72f6",
   "metadata": {},
   "outputs": [
    {
     "data": {
      "text/html": [
       "<div>\n",
       "<style scoped>\n",
       "    .dataframe tbody tr th:only-of-type {\n",
       "        vertical-align: middle;\n",
       "    }\n",
       "\n",
       "    .dataframe tbody tr th {\n",
       "        vertical-align: top;\n",
       "    }\n",
       "\n",
       "    .dataframe thead th {\n",
       "        text-align: right;\n",
       "    }\n",
       "</style>\n",
       "<table border=\"1\" class=\"dataframe\">\n",
       "  <thead>\n",
       "    <tr style=\"text-align: right;\">\n",
       "      <th></th>\n",
       "      <th>count</th>\n",
       "      <th>mean</th>\n",
       "      <th>std</th>\n",
       "      <th>min</th>\n",
       "      <th>25%</th>\n",
       "      <th>50%</th>\n",
       "      <th>75%</th>\n",
       "      <th>max</th>\n",
       "    </tr>\n",
       "  </thead>\n",
       "  <tbody>\n",
       "    <tr>\n",
       "      <th>temp</th>\n",
       "      <td>40575.0</td>\n",
       "      <td>281.316763</td>\n",
       "      <td>13.816618</td>\n",
       "      <td>0.0</td>\n",
       "      <td>271.84</td>\n",
       "      <td>282.86</td>\n",
       "      <td>292.28</td>\n",
       "      <td>310.07</td>\n",
       "    </tr>\n",
       "    <tr>\n",
       "      <th>rain_1h</th>\n",
       "      <td>40575.0</td>\n",
       "      <td>0.318632</td>\n",
       "      <td>48.812640</td>\n",
       "      <td>0.0</td>\n",
       "      <td>0.00</td>\n",
       "      <td>0.00</td>\n",
       "      <td>0.00</td>\n",
       "      <td>9831.30</td>\n",
       "    </tr>\n",
       "    <tr>\n",
       "      <th>snow_1h</th>\n",
       "      <td>40575.0</td>\n",
       "      <td>0.000117</td>\n",
       "      <td>0.005676</td>\n",
       "      <td>0.0</td>\n",
       "      <td>0.00</td>\n",
       "      <td>0.00</td>\n",
       "      <td>0.00</td>\n",
       "      <td>0.51</td>\n",
       "    </tr>\n",
       "    <tr>\n",
       "      <th>clouds_all</th>\n",
       "      <td>40575.0</td>\n",
       "      <td>44.199162</td>\n",
       "      <td>38.683447</td>\n",
       "      <td>0.0</td>\n",
       "      <td>1.00</td>\n",
       "      <td>40.00</td>\n",
       "      <td>90.00</td>\n",
       "      <td>100.00</td>\n",
       "    </tr>\n",
       "    <tr>\n",
       "      <th>traffic_volume</th>\n",
       "      <td>40575.0</td>\n",
       "      <td>3290.650474</td>\n",
       "      <td>1984.772909</td>\n",
       "      <td>0.0</td>\n",
       "      <td>1248.50</td>\n",
       "      <td>3427.00</td>\n",
       "      <td>4952.00</td>\n",
       "      <td>7280.00</td>\n",
       "    </tr>\n",
       "  </tbody>\n",
       "</table>\n",
       "</div>"
      ],
      "text/plain": [
       "                  count         mean          std  min      25%      50%  \\\n",
       "temp            40575.0   281.316763    13.816618  0.0   271.84   282.86   \n",
       "rain_1h         40575.0     0.318632    48.812640  0.0     0.00     0.00   \n",
       "snow_1h         40575.0     0.000117     0.005676  0.0     0.00     0.00   \n",
       "clouds_all      40575.0    44.199162    38.683447  0.0     1.00    40.00   \n",
       "traffic_volume  40575.0  3290.650474  1984.772909  0.0  1248.50  3427.00   \n",
       "\n",
       "                    75%      max  \n",
       "temp             292.28   310.07  \n",
       "rain_1h            0.00  9831.30  \n",
       "snow_1h            0.00     0.51  \n",
       "clouds_all        90.00   100.00  \n",
       "traffic_volume  4952.00  7280.00  "
      ]
     },
     "execution_count": 4,
     "metadata": {},
     "output_type": "execute_result"
    }
   ],
   "source": [
    "#From TF Tutorial.\n",
    "df.describe().transpose()"
   ]
  },
  {
   "cell_type": "code",
   "execution_count": 5,
   "id": "1b5abf43",
   "metadata": {},
   "outputs": [
    {
     "name": "stdout",
     "output_type": "stream",
     "text": [
      "['None' 'Columbus Day' 'Veterans Day' 'Thanksgiving Day' 'Christmas Day'\n",
      " 'New Years Day' 'Washingtons Birthday' 'Memorial Day' 'Independence Day'\n",
      " 'State Fair' 'Labor Day' 'Martin Luther King Jr Day']\n",
      "12\n"
     ]
    }
   ],
   "source": [
    "#MP\n",
    "#print unique values for \"holiday\"feature and get count\n",
    "print(df.holiday.unique())\n",
    "print(len(df.holiday.unique()))"
   ]
  },
  {
   "cell_type": "code",
   "execution_count": 6,
   "id": "58bc1f1f",
   "metadata": {},
   "outputs": [
    {
     "name": "stdout",
     "output_type": "stream",
     "text": [
      "['Clouds' 'Clear' 'Rain' 'Drizzle' 'Mist' 'Fog' 'Thunderstorm' 'Haze'\n",
      " 'Snow' 'Squall' 'Smoke']\n",
      "11\n"
     ]
    }
   ],
   "source": [
    "#MP\n",
    "#print unique values for \"weather_main\"feature and get count\n",
    "print(df.weather_main.unique())\n",
    "print(len(df.weather_main.unique()))"
   ]
  },
  {
   "cell_type": "code",
   "execution_count": 7,
   "id": "8885399f",
   "metadata": {},
   "outputs": [
    {
     "name": "stdout",
     "output_type": "stream",
     "text": [
      "['scattered clouds' 'broken clouds' 'overcast clouds' 'sky is clear'\n",
      " 'few clouds' 'light rain' 'light intensity drizzle' 'mist' 'fog'\n",
      " 'proximity shower rain' 'moderate rain' 'drizzle' 'heavy intensity rain'\n",
      " 'proximity thunderstorm' 'haze' 'heavy snow'\n",
      " 'thunderstorm with light rain' 'snow' 'light rain and snow'\n",
      " 'light intensity shower rain' 'SQUALLS'\n",
      " 'proximity thunderstorm with rain' 'thunderstorm with rain'\n",
      " 'thunderstorm with heavy rain' 'heavy intensity drizzle' 'Sky is Clear'\n",
      " 'very heavy rain' 'thunderstorm with light drizzle' 'thunderstorm'\n",
      " 'light snow' 'smoke' 'freezing rain' 'light shower snow' 'sleet'\n",
      " 'proximity thunderstorm with drizzle']\n",
      "35\n"
     ]
    }
   ],
   "source": [
    "#MP\n",
    "#print unique values for \"weather_description\"feature and get count\n",
    "print(df.weather_description.unique())\n",
    "print(len(df.weather_description.unique()))"
   ]
  },
  {
   "cell_type": "code",
   "execution_count": 8,
   "id": "1c10954a",
   "metadata": {},
   "outputs": [],
   "source": [
    "#MP\n",
    "#Three feature engineering tasks to apply for above data to make it work for Keras\n",
    "#1. Convert holiday to numerical feature by encoding it as Holiday = None and Holday = Yes\n",
    "#2. Converting the weather_main feature by encoding it.\n",
    "#3. Convert date time to sin-cosin, similarly to TF Tutorial\n",
    "#4. Drop \"weather_description\", as weather_main covers the primary type of weather condition"
   ]
  },
  {
   "cell_type": "code",
   "execution_count": 9,
   "id": "552102a3",
   "metadata": {},
   "outputs": [],
   "source": [
    "#MP\n",
    "#Converting holiday features - If holiday = None then 0 else 1.\n",
    "df['holiday_dummies'] = df.apply \\\n",
    "                (lambda row: 0 if row['holiday'] == 'None' else 1, axis=1)"
   ]
  },
  {
   "cell_type": "code",
   "execution_count": 10,
   "id": "dbac95b0",
   "metadata": {},
   "outputs": [
    {
     "data": {
      "text/html": [
       "<div>\n",
       "<style scoped>\n",
       "    .dataframe tbody tr th:only-of-type {\n",
       "        vertical-align: middle;\n",
       "    }\n",
       "\n",
       "    .dataframe tbody tr th {\n",
       "        vertical-align: top;\n",
       "    }\n",
       "\n",
       "    .dataframe thead th {\n",
       "        text-align: right;\n",
       "    }\n",
       "</style>\n",
       "<table border=\"1\" class=\"dataframe\">\n",
       "  <thead>\n",
       "    <tr style=\"text-align: right;\">\n",
       "      <th></th>\n",
       "      <th>holiday</th>\n",
       "      <th>temp</th>\n",
       "      <th>rain_1h</th>\n",
       "      <th>snow_1h</th>\n",
       "      <th>clouds_all</th>\n",
       "      <th>weather_main</th>\n",
       "      <th>weather_description</th>\n",
       "      <th>date_time</th>\n",
       "      <th>traffic_volume</th>\n",
       "      <th>holiday_dummies</th>\n",
       "    </tr>\n",
       "  </thead>\n",
       "  <tbody>\n",
       "    <tr>\n",
       "      <th>0</th>\n",
       "      <td>None</td>\n",
       "      <td>288.28</td>\n",
       "      <td>0.0</td>\n",
       "      <td>0.0</td>\n",
       "      <td>40</td>\n",
       "      <td>Clouds</td>\n",
       "      <td>scattered clouds</td>\n",
       "      <td>2012-10-02 09:00:00</td>\n",
       "      <td>5545</td>\n",
       "      <td>0</td>\n",
       "    </tr>\n",
       "    <tr>\n",
       "      <th>1</th>\n",
       "      <td>None</td>\n",
       "      <td>289.36</td>\n",
       "      <td>0.0</td>\n",
       "      <td>0.0</td>\n",
       "      <td>75</td>\n",
       "      <td>Clouds</td>\n",
       "      <td>broken clouds</td>\n",
       "      <td>2012-10-02 10:00:00</td>\n",
       "      <td>4516</td>\n",
       "      <td>0</td>\n",
       "    </tr>\n",
       "    <tr>\n",
       "      <th>2</th>\n",
       "      <td>None</td>\n",
       "      <td>289.58</td>\n",
       "      <td>0.0</td>\n",
       "      <td>0.0</td>\n",
       "      <td>90</td>\n",
       "      <td>Clouds</td>\n",
       "      <td>overcast clouds</td>\n",
       "      <td>2012-10-02 11:00:00</td>\n",
       "      <td>4767</td>\n",
       "      <td>0</td>\n",
       "    </tr>\n",
       "    <tr>\n",
       "      <th>3</th>\n",
       "      <td>None</td>\n",
       "      <td>290.13</td>\n",
       "      <td>0.0</td>\n",
       "      <td>0.0</td>\n",
       "      <td>90</td>\n",
       "      <td>Clouds</td>\n",
       "      <td>overcast clouds</td>\n",
       "      <td>2012-10-02 12:00:00</td>\n",
       "      <td>5026</td>\n",
       "      <td>0</td>\n",
       "    </tr>\n",
       "    <tr>\n",
       "      <th>4</th>\n",
       "      <td>None</td>\n",
       "      <td>291.14</td>\n",
       "      <td>0.0</td>\n",
       "      <td>0.0</td>\n",
       "      <td>75</td>\n",
       "      <td>Clouds</td>\n",
       "      <td>broken clouds</td>\n",
       "      <td>2012-10-02 13:00:00</td>\n",
       "      <td>4918</td>\n",
       "      <td>0</td>\n",
       "    </tr>\n",
       "    <tr>\n",
       "      <th>...</th>\n",
       "      <td>...</td>\n",
       "      <td>...</td>\n",
       "      <td>...</td>\n",
       "      <td>...</td>\n",
       "      <td>...</td>\n",
       "      <td>...</td>\n",
       "      <td>...</td>\n",
       "      <td>...</td>\n",
       "      <td>...</td>\n",
       "      <td>...</td>\n",
       "    </tr>\n",
       "    <tr>\n",
       "      <th>40570</th>\n",
       "      <td>None</td>\n",
       "      <td>283.45</td>\n",
       "      <td>0.0</td>\n",
       "      <td>0.0</td>\n",
       "      <td>75</td>\n",
       "      <td>Clouds</td>\n",
       "      <td>broken clouds</td>\n",
       "      <td>2018-09-30 19:00:00</td>\n",
       "      <td>3543</td>\n",
       "      <td>0</td>\n",
       "    </tr>\n",
       "    <tr>\n",
       "      <th>40571</th>\n",
       "      <td>None</td>\n",
       "      <td>282.76</td>\n",
       "      <td>0.0</td>\n",
       "      <td>0.0</td>\n",
       "      <td>90</td>\n",
       "      <td>Clouds</td>\n",
       "      <td>overcast clouds</td>\n",
       "      <td>2018-09-30 20:00:00</td>\n",
       "      <td>2781</td>\n",
       "      <td>0</td>\n",
       "    </tr>\n",
       "    <tr>\n",
       "      <th>40572</th>\n",
       "      <td>None</td>\n",
       "      <td>282.73</td>\n",
       "      <td>0.0</td>\n",
       "      <td>0.0</td>\n",
       "      <td>90</td>\n",
       "      <td>Thunderstorm</td>\n",
       "      <td>proximity thunderstorm</td>\n",
       "      <td>2018-09-30 21:00:00</td>\n",
       "      <td>2159</td>\n",
       "      <td>0</td>\n",
       "    </tr>\n",
       "    <tr>\n",
       "      <th>40573</th>\n",
       "      <td>None</td>\n",
       "      <td>282.09</td>\n",
       "      <td>0.0</td>\n",
       "      <td>0.0</td>\n",
       "      <td>90</td>\n",
       "      <td>Clouds</td>\n",
       "      <td>overcast clouds</td>\n",
       "      <td>2018-09-30 22:00:00</td>\n",
       "      <td>1450</td>\n",
       "      <td>0</td>\n",
       "    </tr>\n",
       "    <tr>\n",
       "      <th>40574</th>\n",
       "      <td>None</td>\n",
       "      <td>282.12</td>\n",
       "      <td>0.0</td>\n",
       "      <td>0.0</td>\n",
       "      <td>90</td>\n",
       "      <td>Clouds</td>\n",
       "      <td>overcast clouds</td>\n",
       "      <td>2018-09-30 23:00:00</td>\n",
       "      <td>954</td>\n",
       "      <td>0</td>\n",
       "    </tr>\n",
       "  </tbody>\n",
       "</table>\n",
       "<p>40575 rows × 10 columns</p>\n",
       "</div>"
      ],
      "text/plain": [
       "      holiday    temp  rain_1h  snow_1h  clouds_all  weather_main  \\\n",
       "0        None  288.28      0.0      0.0          40        Clouds   \n",
       "1        None  289.36      0.0      0.0          75        Clouds   \n",
       "2        None  289.58      0.0      0.0          90        Clouds   \n",
       "3        None  290.13      0.0      0.0          90        Clouds   \n",
       "4        None  291.14      0.0      0.0          75        Clouds   \n",
       "...       ...     ...      ...      ...         ...           ...   \n",
       "40570    None  283.45      0.0      0.0          75        Clouds   \n",
       "40571    None  282.76      0.0      0.0          90        Clouds   \n",
       "40572    None  282.73      0.0      0.0          90  Thunderstorm   \n",
       "40573    None  282.09      0.0      0.0          90        Clouds   \n",
       "40574    None  282.12      0.0      0.0          90        Clouds   \n",
       "\n",
       "          weather_description            date_time  traffic_volume  \\\n",
       "0            scattered clouds  2012-10-02 09:00:00            5545   \n",
       "1               broken clouds  2012-10-02 10:00:00            4516   \n",
       "2             overcast clouds  2012-10-02 11:00:00            4767   \n",
       "3             overcast clouds  2012-10-02 12:00:00            5026   \n",
       "4               broken clouds  2012-10-02 13:00:00            4918   \n",
       "...                       ...                  ...             ...   \n",
       "40570           broken clouds  2018-09-30 19:00:00            3543   \n",
       "40571         overcast clouds  2018-09-30 20:00:00            2781   \n",
       "40572  proximity thunderstorm  2018-09-30 21:00:00            2159   \n",
       "40573         overcast clouds  2018-09-30 22:00:00            1450   \n",
       "40574         overcast clouds  2018-09-30 23:00:00             954   \n",
       "\n",
       "       holiday_dummies  \n",
       "0                    0  \n",
       "1                    0  \n",
       "2                    0  \n",
       "3                    0  \n",
       "4                    0  \n",
       "...                ...  \n",
       "40570                0  \n",
       "40571                0  \n",
       "40572                0  \n",
       "40573                0  \n",
       "40574                0  \n",
       "\n",
       "[40575 rows x 10 columns]"
      ]
     },
     "execution_count": 10,
     "metadata": {},
     "output_type": "execute_result"
    }
   ],
   "source": [
    "df"
   ]
  },
  {
   "cell_type": "code",
   "execution_count": 11,
   "id": "f7ddc71c",
   "metadata": {},
   "outputs": [
    {
     "name": "stdout",
     "output_type": "stream",
     "text": [
      "<class 'pandas.core.frame.DataFrame'>\n",
      "RangeIndex: 40575 entries, 0 to 40574\n",
      "Data columns (total 8 columns):\n",
      " #   Column           Non-Null Count  Dtype  \n",
      "---  ------           --------------  -----  \n",
      " 0   temp             40575 non-null  float64\n",
      " 1   rain_1h          40575 non-null  float64\n",
      " 2   snow_1h          40575 non-null  float64\n",
      " 3   clouds_all       40575 non-null  int64  \n",
      " 4   weather_main     40575 non-null  object \n",
      " 5   date_time        40575 non-null  object \n",
      " 6   traffic_volume   40575 non-null  int64  \n",
      " 7   holiday_dummies  40575 non-null  int64  \n",
      "dtypes: float64(3), int64(3), object(2)\n",
      "memory usage: 2.5+ MB\n"
     ]
    }
   ],
   "source": [
    "#Dropping categorical features\n",
    "df = df.drop(columns=['holiday','weather_description'])\n",
    "df.info()"
   ]
  },
  {
   "cell_type": "code",
   "execution_count": 12,
   "id": "1556b074",
   "metadata": {},
   "outputs": [
    {
     "data": {
      "text/plain": [
       "0        0\n",
       "1        0\n",
       "2        0\n",
       "3        0\n",
       "4        0\n",
       "        ..\n",
       "40570    0\n",
       "40571    0\n",
       "40572    0\n",
       "40573    0\n",
       "40574    0\n",
       "Name: holiday_dummies, Length: 40575, dtype: int64"
      ]
     },
     "execution_count": 12,
     "metadata": {},
     "output_type": "execute_result"
    }
   ],
   "source": [
    "holiday_dummies = df.pop('holiday_dummies')\n",
    "holiday_dummies"
   ]
  },
  {
   "cell_type": "code",
   "execution_count": 13,
   "id": "868e80e9",
   "metadata": {},
   "outputs": [
    {
     "data": {
      "text/plain": [
       "0              Clouds\n",
       "1              Clouds\n",
       "2              Clouds\n",
       "3              Clouds\n",
       "4              Clouds\n",
       "             ...     \n",
       "40570          Clouds\n",
       "40571          Clouds\n",
       "40572    Thunderstorm\n",
       "40573          Clouds\n",
       "40574          Clouds\n",
       "Name: weather_main, Length: 40575, dtype: object"
      ]
     },
     "execution_count": 13,
     "metadata": {},
     "output_type": "execute_result"
    }
   ],
   "source": [
    "weather_main = df.pop('weather_main')\n",
    "weather_main"
   ]
  },
  {
   "cell_type": "code",
   "execution_count": 14,
   "id": "33fcb394",
   "metadata": {},
   "outputs": [
    {
     "data": {
      "text/plain": [
       "0       2012-10-02 09:00:00\n",
       "1       2012-10-02 10:00:00\n",
       "2       2012-10-02 11:00:00\n",
       "3       2012-10-02 12:00:00\n",
       "4       2012-10-02 13:00:00\n",
       "                ...        \n",
       "40570   2018-09-30 19:00:00\n",
       "40571   2018-09-30 20:00:00\n",
       "40572   2018-09-30 21:00:00\n",
       "40573   2018-09-30 22:00:00\n",
       "40574   2018-09-30 23:00:00\n",
       "Name: date_time, Length: 40575, dtype: datetime64[ns]"
      ]
     },
     "execution_count": 14,
     "metadata": {},
     "output_type": "execute_result"
    }
   ],
   "source": [
    "#From TF Tutorial.\n",
    "#popping date_time feature\n",
    "#2018-09-30 23:00:00\n",
    "date_time = pd.to_datetime(df.pop('date_time'), format='%Y.%m.%d %H:%M:%S')\n",
    "date_time"
   ]
  },
  {
   "cell_type": "code",
   "execution_count": 15,
   "id": "3eeb165a",
   "metadata": {},
   "outputs": [],
   "source": [
    "#df.info()"
   ]
  },
  {
   "cell_type": "code",
   "execution_count": 16,
   "id": "dd2e6ba6",
   "metadata": {},
   "outputs": [],
   "source": [
    "#From TF Tutorial.\n",
    "timestamp_s = date_time.map(pd.Timestamp.timestamp)"
   ]
  },
  {
   "cell_type": "code",
   "execution_count": 17,
   "id": "0cc0ab88",
   "metadata": {},
   "outputs": [],
   "source": [
    "#From TF Tutorial.\n",
    "day = 24*60*60\n",
    "year = (365.2425)*day\n",
    "\n",
    "df['Day_sin'] = np.sin(timestamp_s * (2 * np.pi / day))\n",
    "df['Day_cos'] = np.cos(timestamp_s * (2 * np.pi / day))\n",
    "df['Year_sin'] = np.sin(timestamp_s * (2 * np.pi / year))\n",
    "df['Year_cos'] = np.cos(timestamp_s * (2 * np.pi / year))"
   ]
  },
  {
   "cell_type": "code",
   "execution_count": 18,
   "id": "845beae8",
   "metadata": {},
   "outputs": [
    {
     "data": {
      "text/plain": [
       "Text(0.5, 1.0, 'Time of day signal')"
      ]
     },
     "execution_count": 18,
     "metadata": {},
     "output_type": "execute_result"
    },
    {
     "data": {
      "image/png": "[encoded data removed]",
      "text/plain": [
       "<Figure size 576x432 with 1 Axes>"
      ]
     },
     "metadata": {
      "needs_background": "light"
     },
     "output_type": "display_data"
    }
   ],
   "source": [
    "#From TF Tutorial.\n",
    "\n",
    "plt.plot(np.array(df['Day_sin'])[:25])\n",
    "plt.plot(np.array(df['Day_cos'])[:25])\n",
    "plt.xlabel('Time [h]')\n",
    "plt.title('Time of day signal')"
   ]
  },
  {
   "cell_type": "code",
   "execution_count": 19,
   "id": "57decb96",
   "metadata": {},
   "outputs": [],
   "source": [
    "#df.info()"
   ]
  },
  {
   "cell_type": "code",
   "execution_count": 20,
   "id": "159de3a8",
   "metadata": {},
   "outputs": [],
   "source": [
    "#df.describe().transpose()"
   ]
  },
  {
   "cell_type": "markdown",
   "id": "c514d3eb",
   "metadata": {},
   "source": [
    "<h3>Split the data"
   ]
  },
  {
   "cell_type": "code",
   "execution_count": 21,
   "id": "e500fe24",
   "metadata": {},
   "outputs": [],
   "source": [
    "#From TF Tutorial.\n",
    "\n",
    "column_indices = {name: i for i, name in enumerate(df.columns)}\n",
    "\n",
    "n = len(df)\n",
    "train_df = df[0:28460]\n",
    "val_df = df[28460:35575]\n",
    "test_df = df[35575:]\n",
    "\n",
    "num_features = df.shape[1]"
   ]
  },
  {
   "cell_type": "code",
   "execution_count": 22,
   "id": "48c7d11d",
   "metadata": {},
   "outputs": [
    {
     "data": {
      "text/plain": [
       "9"
      ]
     },
     "execution_count": 22,
     "metadata": {},
     "output_type": "execute_result"
    }
   ],
   "source": [
    "num_features"
   ]
  },
  {
   "cell_type": "code",
   "execution_count": 23,
   "id": "13d6dea6",
   "metadata": {},
   "outputs": [
    {
     "name": "stdout",
     "output_type": "stream",
     "text": [
      "40575\n",
      "The length of Train set is 28460\n",
      "The length of Validate set is 7115\n",
      "The length of Test test set 5000\n"
     ]
    }
   ],
   "source": [
    "print(n)\n",
    "print(\"The length of Train set is {}\".format(len(train_df)))\n",
    "print(\"The length of Validate set is {}\".format(len(val_df)))\n",
    "print(\"The length of Test test set {}\".format(len(test_df)))"
   ]
  },
  {
   "cell_type": "markdown",
   "id": "3bfa901a",
   "metadata": {},
   "source": [
    "<h3> Normalize the Data"
   ]
  },
  {
   "cell_type": "code",
   "execution_count": 24,
   "id": "7bfb8b96",
   "metadata": {},
   "outputs": [],
   "source": [
    "train_mean = train_df.mean()\n",
    "train_std = train_df.std()\n",
    "train_df = (train_df - train_mean) / train_std\n",
    "val_df = (val_df - train_mean) / train_std\n",
    "test_df = (test_df - train_mean) / train_std"
   ]
  },
  {
   "cell_type": "code",
   "execution_count": 25,
   "id": "0f536647",
   "metadata": {},
   "outputs": [],
   "source": [
    "#train_df"
   ]
  },
  {
   "cell_type": "code",
   "execution_count": 26,
   "id": "d1fc33a6",
   "metadata": {},
   "outputs": [
    {
     "data": {
      "text/plain": [
       "0        0\n",
       "1        0\n",
       "2        0\n",
       "3        0\n",
       "4        0\n",
       "        ..\n",
       "40570    0\n",
       "40571    0\n",
       "40572    0\n",
       "40573    0\n",
       "40574    0\n",
       "Name: holiday_dummies, Length: 40575, dtype: int64"
      ]
     },
     "execution_count": 26,
     "metadata": {},
     "output_type": "execute_result"
    }
   ],
   "source": [
    "holiday_dummies"
   ]
  },
  {
   "cell_type": "code",
   "execution_count": 27,
   "id": "c1c3acca",
   "metadata": {},
   "outputs": [],
   "source": [
    "#MP \n",
    "#Converting weather_main to dummies.\n",
    "weather_main = pd.get_dummies(weather_main, columns=['weather_main'])"
   ]
  },
  {
   "cell_type": "code",
   "execution_count": 28,
   "id": "316be7dd",
   "metadata": {},
   "outputs": [],
   "source": [
    "train_weather = weather_main[0:28460]\n",
    "val_weather = weather_main[28460:35575]\n",
    "test_weather = weather_main[35575:]"
   ]
  },
  {
   "cell_type": "code",
   "execution_count": 29,
   "id": "f64051da",
   "metadata": {},
   "outputs": [],
   "source": [
    "#train_weather"
   ]
  },
  {
   "cell_type": "code",
   "execution_count": 30,
   "id": "0fabd03a",
   "metadata": {},
   "outputs": [],
   "source": [
    "train_df = train_df.join(train_weather)\n",
    "val_df = val_df.join(val_weather)\n",
    "test_df = test_df.join(test_weather)"
   ]
  },
  {
   "cell_type": "code",
   "execution_count": 31,
   "id": "726f4777",
   "metadata": {},
   "outputs": [],
   "source": [
    "#train_df"
   ]
  },
  {
   "cell_type": "code",
   "execution_count": 32,
   "id": "6014b26b",
   "metadata": {},
   "outputs": [],
   "source": [
    "#val_df"
   ]
  },
  {
   "cell_type": "code",
   "execution_count": 33,
   "id": "cdfe4a4f",
   "metadata": {},
   "outputs": [],
   "source": [
    "#test_df"
   ]
  },
  {
   "cell_type": "code",
   "execution_count": 34,
   "id": "313c2206",
   "metadata": {},
   "outputs": [],
   "source": [
    "train_holiday_dummies = holiday_dummies[0:28460]\n",
    "val_holiday_dummies = holiday_dummies[28460:35575]\n",
    "test_holiday_dummies = holiday_dummies[35575:]\n",
    "train_df = train_df.join(pd.get_dummies(train_holiday_dummies).add_prefix('Holiday-'))\n",
    "val_df = val_df.join(pd.get_dummies(val_holiday_dummies).add_prefix('Holiday-'))\n",
    "test_df = test_df.join(pd.get_dummies(test_holiday_dummies).add_prefix('Holiday-'))\n"
   ]
  },
  {
   "cell_type": "code",
   "execution_count": 35,
   "id": "c780794d",
   "metadata": {},
   "outputs": [],
   "source": [
    "#train_df.describe().transpose()"
   ]
  },
  {
   "cell_type": "code",
   "execution_count": 36,
   "id": "f95d4f5e",
   "metadata": {},
   "outputs": [],
   "source": [
    "#train_df"
   ]
  },
  {
   "cell_type": "markdown",
   "id": "7f3d7995",
   "metadata": {},
   "source": [
    "<h3> Window Generator"
   ]
  },
  {
   "cell_type": "code",
   "execution_count": 38,
   "id": "4a9dc5f1",
   "metadata": {},
   "outputs": [],
   "source": [
    "#From TF Tutorial.\n",
    "class WindowGenerator():\n",
    "    def __init__(self, input_width, label_width, shift,\n",
    "                     train_df=train_df, val_df=val_df, test_df=test_df,\n",
    "                     label_columns=None):\n",
    "          # Store the raw data.\n",
    "        self.train_df = train_df\n",
    "        self.val_df = val_df\n",
    "        self.test_df = test_df\n",
    "\n",
    "          # Work out the label column indices.\n",
    "        self.label_columns = label_columns\n",
    "        if label_columns is not None:\n",
    "            self.label_columns_indices = {name: i for i, name in\n",
    "                                          enumerate(label_columns)}\n",
    "        self.column_indices = {name: i for i, name in\n",
    "                               enumerate(train_df.columns)}\n",
    "\n",
    "          # Work out the window parameters.\n",
    "        self.input_width = input_width\n",
    "        self.label_width = label_width\n",
    "        self.shift = shift\n",
    "\n",
    "        self.total_window_size = input_width + shift\n",
    "\n",
    "        self.input_slice = slice(0, input_width)\n",
    "        self.input_indices = np.arange(self.total_window_size)[self.input_slice]\n",
    "\n",
    "        self.label_start = self.total_window_size - self.label_width\n",
    "        self.labels_slice = slice(self.label_start, None)\n",
    "        self.label_indices = np.arange(self.total_window_size)[self.labels_slice]\n",
    "\n",
    "    def __repr__(self):\n",
    "        return '\\n'.join([\n",
    "              f'Total window size: {self.total_window_size}',\n",
    "              f'Input indices: {self.input_indices}',\n",
    "              f'Label indices: {self.label_indices}',\n",
    "              f'Label column name(s): {self.label_columns}'])"
   ]
  },
  {
   "cell_type": "code",
   "execution_count": 41,
   "id": "fe2acd7c",
   "metadata": {},
   "outputs": [],
   "source": [
    "def split_window(self, features):\n",
    "    inputs = features[:, self.input_slice, :]\n",
    "    labels = features[:, self.labels_slice, :]\n",
    "    if self.label_columns is not None:\n",
    "          labels = tf.stack(\n",
    "              [labels[:, :, self.column_indices[name]] for name in self.label_columns],\n",
    "              axis=-1)\n",
    "\n",
    "    # Slicing doesn't preserve static shape information, so set the shapes\n",
    "    # manually. This way the `tf.data.Datasets` are easier to inspect.\n",
    "    inputs.set_shape([None, self.input_width, None])\n",
    "    labels.set_shape([None, self.label_width, None])\n",
    "\n",
    "    return inputs, labels\n",
    "\n",
    "WindowGenerator.split_window = split_window"
   ]
  },
  {
   "cell_type": "code",
   "execution_count": 39,
   "id": "8e600206",
   "metadata": {},
   "outputs": [],
   "source": [
    "window_5_1_2 = WindowGenerator(input_width=5, label_width=1, shift=2,\n",
    "                     label_columns=['traffic_volume'])\n"
   ]
  },
  {
   "cell_type": "code",
   "execution_count": 40,
   "id": "c54eb383",
   "metadata": {},
   "outputs": [
    {
     "data": {
      "text/plain": [
       "Total window size: 7\n",
       "Input indices: [0 1 2 3 4]\n",
       "Label indices: [6]\n",
       "Label column name(s): ['traffic_volume']"
      ]
     },
     "execution_count": 40,
     "metadata": {},
     "output_type": "execute_result"
    }
   ],
   "source": [
    "window_5_1_2"
   ]
  },
  {
   "cell_type": "code",
   "execution_count": 44,
   "id": "ce4c3761",
   "metadata": {},
   "outputs": [
    {
     "name": "stdout",
     "output_type": "stream",
     "text": [
      "All shapes are: (batch, time, features)\n",
      "Window shape: (3, 7, 22)\n",
      "Inputs shape: (3, 5, 22)\n",
      "Labels shape: (3, 1, 1)\n"
     ]
    },
    {
     "name": "stderr",
     "output_type": "stream",
     "text": [
      "2022-06-04 23:08:11.982799: I tensorflow/core/platform/cpu_feature_guard.cc:142] This TensorFlow binary is optimized with oneAPI Deep Neural Network Library (oneDNN) to use the following CPU instructions in performance-critical operations:  AVX2 FMA\n",
      "To enable them in other operations, rebuild TensorFlow with the appropriate compiler flags.\n"
     ]
    }
   ],
   "source": [
    "# Stack three slices, the length of the total window.\n",
    "example_window = tf.stack([np.array(train_df[:window_5_1_2.total_window_size]),\n",
    "                           np.array(train_df[100:100+window_5_1_2.total_window_size]),\n",
    "                           np.array(train_df[200:200+window_5_1_2.total_window_size])])\n",
    "\n",
    "example_inputs, example_labels = window_5_1_2.split_window(example_window)\n",
    "\n",
    "print('All shapes are: (batch, time, features)')\n",
    "print(f'Window shape: {example_window.shape}')\n",
    "print(f'Inputs shape: {example_inputs.shape}')\n",
    "print(f'Labels shape: {example_labels.shape}')"
   ]
  },
  {
   "cell_type": "code",
   "execution_count": 45,
   "id": "00553d08",
   "metadata": {},
   "outputs": [],
   "source": [
    "window_5_1_2.example = example_inputs, example_labels"
   ]
  },
  {
   "cell_type": "code",
   "execution_count": 48,
   "id": "a7acae85",
   "metadata": {},
   "outputs": [],
   "source": [
    "def plot(self, model=None, plot_col='traffic_volume', max_subplots=3):\n",
    "    inputs, labels = self.example\n",
    "    plt.figure(figsize=(12, 8))\n",
    "    plot_col_index = self.column_indices[plot_col]\n",
    "    max_n = min(max_subplots, len(inputs))\n",
    "    for n in range(max_n):\n",
    "        plt.subplot(max_n, 1, n+1)\n",
    "        plt.ylabel(f'{plot_col} [normed]')\n",
    "        plt.plot(self.input_indices, inputs[n, :, plot_col_index],\n",
    "               label='Inputs', marker='.', zorder=-10)\n",
    "\n",
    "        if self.label_columns:\n",
    "            label_col_index = self.label_columns_indices.get(plot_col, None)\n",
    "        else:\n",
    "            label_col_index = plot_col_index\n",
    "\n",
    "        if label_col_index is None:\n",
    "            continue\n",
    "\n",
    "        plt.scatter(self.label_indices, labels[n, :, label_col_index],\n",
    "                  edgecolors='k', label='Labels', c='#2ca02c', s=64)\n",
    "        if model is not None:\n",
    "            predictions = model(inputs)\n",
    "            plt.scatter(self.label_indices, predictions[n, :, label_col_index],\n",
    "                    marker='X', edgecolors='k', label='Predictions',\n",
    "                    c='#ff7f0e', s=64)\n",
    "\n",
    "        if n == 0:\n",
    "            plt.legend()\n",
    "\n",
    "    plt.xlabel('Time [h]')\n",
    "\n",
    "WindowGenerator.plot = plot"
   ]
  },
  {
   "cell_type": "code",
   "execution_count": 49,
   "id": "07ee3dc6",
   "metadata": {},
   "outputs": [
    {
     "data": {
      "image/png": "[encoded data removed]",
      "text/plain": [
       "<Figure size 864x576 with 3 Axes>"
      ]
     },
     "metadata": {
      "needs_background": "light"
     },
     "output_type": "display_data"
    }
   ],
   "source": [
    "window_5_1_2.plot()"
   ]
  },
  {
   "cell_type": "code",
   "execution_count": null,
   "id": "d7a075ec",
   "metadata": {},
   "outputs": [],
   "source": []
  }
 ],
 "metadata": {
  "kernelspec": {
   "display_name": "Python 3 (ipykernel)",
   "language": "python",
   "name": "python3"
  },
  "language_info": {
   "codemirror_mode": {
    "name": "ipython",
    "version": 3
   },
   "file_extension": ".py",
   "mimetype": "text/x-python",
   "name": "python",
   "nbconvert_exporter": "python",
   "pygments_lexer": "ipython3",
   "version": "3.9.7"
  }
 },
 "nbformat": 4,
 "nbformat_minor": 5
}
